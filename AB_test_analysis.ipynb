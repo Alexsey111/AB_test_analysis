{
  "nbformat": 4,
  "nbformat_minor": 0,
  "metadata": {
    "colab": {
      "provenance": [],
      "authorship_tag": "ABX9TyPnLHe3NYokARdkcJ0bxzqq",
      "include_colab_link": true
    },
    "kernelspec": {
      "name": "python3",
      "display_name": "Python 3"
    },
    "language_info": {
      "name": "python"
    }
  },
  "cells": [
    {
      "cell_type": "markdown",
      "metadata": {
        "id": "view-in-github",
        "colab_type": "text"
      },
      "source": [
        "<a href=\"https://colab.research.google.com/github/Alexsey111/AB_test_analysis/blob/main/AB_test_analysis.ipynb\" target=\"_parent\"><img src=\"https://colab.research.google.com/assets/colab-badge.svg\" alt=\"Open In Colab\"/></a>"
      ]
    },
    {
      "cell_type": "markdown",
      "source": [
        "Дизайн эксперимента для A/B-теста размещения рекламного блока:\n",
        "\n",
        "Цель эксперимента:\n",
        "\n",
        "Проверить, влияет ли перемещение первого рекламного блока из ленты товаров в верхнюю часть страницы на ключевые бизнес-метрики, включая конверсию в заказ (CR) и выручку на пользователя (ARPU).\n",
        "\n",
        "Гипотезы:\n",
        "\n",
        "Нулевая гипотеза (H₀):\n",
        "\n",
        "Перемещение рекламного блока в верхнюю часть интерфейса не оказывает статистически значимого влияния на ключевые бизнес-метрики:\n",
        "\n",
        "Конверсия в заказ (CR)\n",
        "Выручка на пользователя (ARPU)\n",
        "Выручка на покупателя (ARPPU)\n",
        "\n",
        "Альтернативная гипотеза (H₁):\n",
        "\n",
        "Перемещение рекламного блока в верхнюю часть интерфейса приводит к статистически значимому улучшению ключевых бизнес-метрик:\n",
        "\n",
        "Конверсия в заказ (CR)\n",
        "Выручка на пользователя (ARPU)\n",
        "Выручка на покупателя (ARPPU)\n",
        "\n",
        "Метрики для анализа:\n",
        "\n",
        "Ключевая метрика:\n",
        "\n",
        "Конверсия в заказ (CR) — процент пользователей, совершивших покупку после взаимодействия с рекламным блоком.\n",
        "\n",
        "Второстепенные метрики:\n",
        "\n",
        "Выручка на пользователя (ARPU)\n",
        "Выручка на покупателя (ARPPU)\n",
        "Конверсия в добавление товаров в корзину\n",
        "Кликабельность секции рекламы (CTR)\n",
        "\n",
        "План эксперимента:\n",
        "\n",
        "Длительность:\n",
        "\n",
        "1 неделя (основано на предыдущих экспериментах и временных ограничениях).\n",
        "\n",
        "Разделение на группы:\n",
        "\n",
        "Контрольная группа (A): Рекламный блок остаётся на текущем месте (после трёх линий товаров).\n",
        "\n",
        "Тестовая группа (B): Рекламный блок перемещается в верхнюю часть страницы (над основной лентой товаров).\n",
        "\n",
        "Рандомизация:\n",
        "\n",
        "Пользователи случайным образом распределяются между группами с равной вероятностью (50/50).\n",
        "Рандомизация проводится на уровне пользователя, чтобы исключить перекрёстное влияние.\n",
        "\n",
        "Размер выборки:\n",
        "\n",
        "Размер выборки определяется с учётом:\n",
        "\n",
        "Желаемого минимального детектируемого эффекта (MDE) = 2.5% для CR.\n",
        "\n",
        "Мощности теста = 80%.\n",
        "\n",
        "Уровня статистической значимости (α) = 0.05.\n",
        "\n",
        "Сбор данных:\n",
        "\n",
        "Данные собираются на уровне пользователей и агрегируются по группам.\n",
        "Включают все указанные метрики.\n",
        "\n",
        "Методы статистического анализа:\n",
        "\n",
        "Т-тест для независимых выборок: Для сравнения средних значений ключевых метрик между группами.\n",
        "\n",
        "Z-тест: Для проверки пропорций (если применимо).\n",
        "\n",
        "Тест Шапиро-Уилка: Проверка нормальности распределения данных.\n",
        "\n",
        "Тест Левена: Проверка гомогенности дисперсий.\n",
        "\n",
        "Уровень значимости (α): 0.05\n",
        "\n",
        "Порог MDE: 2.5% для ключевой метрики CR.\n",
        "\n",
        "Условия успешного теста:\n",
        "\n",
        "Конверсия в заказ (CR) показывает статистически значимый рост на 2.5% и более.\n",
        "Второстепенные метрики (ARPU, ARPPU) демонстрируют положительные изменения.\n",
        "Результаты подтверждаются статистическими тестами с уровнем значимости α = 0.05.\n",
        "\n",
        "Ограничения и допущения:\n",
        "\n",
        "Временные ограничения: Одна неделя из-за предстоящих изменений в каталоге.\n",
        "\n",
        "Внешние факторы: Сезонность, рекламные кампании и другие воздействия могут повлиять на результаты.\n",
        "\n",
        "Поведение пользователей: Предполагается, что поведение пользователей остаётся стабильным на протяжении эксперимента.\n",
        "\n",
        "Анализ результатов:\n",
        "\n",
        "Сравнение ключевых и второстепенных метрик между контрольной и тестовой группами.\n",
        "\n",
        "Проверка статистической значимости различий (p-value < 0.05).\n",
        "\n",
        "Визуализация данных для наглядного представления различий (гистограммы, коробчатые диаграммы, линейные графики).\n",
        "\n",
        "Оценка чувствительности (Sensitivity Analysis) для проверки устойчивости результатов.\n",
        "\n",
        "Принятие решения:\n",
        "\n",
        "Если конверсия в заказ (CR) и второстепенные метрики (ARPU, ARPPU) показали статистически значимые улучшения, эксперимент считается успешным, и новое размещение рекламного блока может быть внедрено на постоянной основе.\n",
        "Если значимого улучшения не зафиксировано, текущее положение рекламного блока сохраняется.\n"
      ],
      "metadata": {
        "id": "r1aMrQ37-4Nd"
      }
    },
    {
      "cell_type": "code",
      "source": [
        "# Устанавливаем gdown для скачивания файлов\n",
        "!pip install gdown"
      ],
      "metadata": {
        "colab": {
          "base_uri": "https://localhost:8080/"
        },
        "id": "ovzHy0zodWzk",
        "outputId": "d88fb755-0094-456c-db3f-d1feb3064a69"
      },
      "execution_count": null,
      "outputs": [
        {
          "output_type": "stream",
          "name": "stdout",
          "text": [
            "Requirement already satisfied: gdown in /usr/local/lib/python3.10/dist-packages (5.2.0)\n",
            "Requirement already satisfied: beautifulsoup4 in /usr/local/lib/python3.10/dist-packages (from gdown) (4.12.3)\n",
            "Requirement already satisfied: filelock in /usr/local/lib/python3.10/dist-packages (from gdown) (3.16.1)\n",
            "Requirement already satisfied: requests[socks] in /usr/local/lib/python3.10/dist-packages (from gdown) (2.32.3)\n",
            "Requirement already satisfied: tqdm in /usr/local/lib/python3.10/dist-packages (from gdown) (4.67.1)\n",
            "Requirement already satisfied: soupsieve>1.2 in /usr/local/lib/python3.10/dist-packages (from beautifulsoup4->gdown) (2.6)\n",
            "Requirement already satisfied: charset-normalizer<4,>=2 in /usr/local/lib/python3.10/dist-packages (from requests[socks]->gdown) (3.4.1)\n",
            "Requirement already satisfied: idna<4,>=2.5 in /usr/local/lib/python3.10/dist-packages (from requests[socks]->gdown) (3.10)\n",
            "Requirement already satisfied: urllib3<3,>=1.21.1 in /usr/local/lib/python3.10/dist-packages (from requests[socks]->gdown) (2.3.0)\n",
            "Requirement already satisfied: certifi>=2017.4.17 in /usr/local/lib/python3.10/dist-packages (from requests[socks]->gdown) (2024.12.14)\n",
            "Requirement already satisfied: PySocks!=1.5.7,>=1.5.6 in /usr/local/lib/python3.10/dist-packages (from requests[socks]->gdown) (1.7.1)\n"
          ]
        }
      ]
    },
    {
      "cell_type": "code",
      "source": [
        "from google.colab import drive\n",
        "import gdown\n",
        "import pandas as pd\n",
        "import numpy as np\n",
        "import math\n",
        "import matplotlib.pyplot as plt\n",
        "from statsmodels.stats.power import NormalIndPower\n",
        "from scipy.stats import ttest_ind\n",
        "from scipy import stats\n",
        "import seaborn as sns\n",
        "from scipy.stats import ttest_ind, mannwhitneyu\n",
        "from scipy.stats import shapiro\n",
        "from scipy.stats import levene"
      ],
      "metadata": {
        "id": "iL95Ch4j2Aon"
      },
      "execution_count": null,
      "outputs": []
    },
    {
      "cell_type": "code",
      "source": [
        "# Подключаем Google Диск\n",
        "drive.mount('/content/drive')"
      ],
      "metadata": {
        "colab": {
          "base_uri": "https://localhost:8080/"
        },
        "id": "gMOvJ_fibu-4",
        "outputId": "709d2160-bd78-4450-fd75-b522e8779678"
      },
      "execution_count": null,
      "outputs": [
        {
          "output_type": "stream",
          "name": "stdout",
          "text": [
            "Mounted at /content/drive\n"
          ]
        }
      ]
    },
    {
      "cell_type": "code",
      "source": [
        "# Ссылка на файл\n",
        "file_id = '1bf4EePy7jur674ESshKh9TbcH25ruicG'\n",
        "url = f'https://drive.google.com/uc?id={file_id}'\n",
        "\n",
        "# Скачиваем файл\n",
        "output = 'data_raw.csv'\n",
        "gdown.download(url, output, quiet=False)\n",
        "\n",
        "# Загружаем CSV в DataFrame\n",
        "df = pd.read_csv(output)\n",
        "print(df.head())\n",
        "\n",
        "# Ссылка на файл, включающая ID\n",
        "url = 'https://drive.google.com/uc?id=1xEHGMdjCM8vl0CQoXxZW51k4187_Zhyc'\n",
        "\n",
        "# Загрузка файла\n",
        "gdown.download(url, 'final_results_to_analyze.xlsx', quiet=False)\n",
        "\n",
        "# Загрузка данных\n",
        "final_results = pd.read_excel('/content/final_results_to_analyze.xlsx')  # Результаты A/B теста\n",
        "print(final_results.head())"
      ],
      "metadata": {
        "colab": {
          "base_uri": "https://localhost:8080/"
        },
        "id": "FDxuIl-4dcHb",
        "outputId": "06350ea2-7676-43a7-abb0-264d424394ea"
      },
      "execution_count": null,
      "outputs": [
        {
          "output_type": "stream",
          "name": "stderr",
          "text": [
            "Downloading...\n",
            "From (original): https://drive.google.com/uc?id=1bf4EePy7jur674ESshKh9TbcH25ruicG\n",
            "From (redirected): https://drive.google.com/uc?id=1bf4EePy7jur674ESshKh9TbcH25ruicG&confirm=t&uuid=a2ee6f21-0e73-4bfe-8700-7309fcb1b667\n",
            "To: /content/data_raw.csv\n",
            "100%|██████████| 968M/968M [00:14<00:00, 66.6MB/s]\n"
          ]
        },
        {
          "output_type": "stream",
          "name": "stdout",
          "text": [
            "   Unnamed: 0  client_id          dt event_type\n",
            "0           0    6095092  2024-06-20     clicks\n",
            "1           1  541138559  2024-06-18     clicks\n",
            "2           2   12189072  2024-06-20     clicks\n",
            "3           3  674385020  2024-06-20     clicks\n",
            "4           4  726939378  2024-06-20     clicks\n"
          ]
        },
        {
          "output_type": "stream",
          "name": "stderr",
          "text": [
            "Downloading...\n",
            "From (original): https://drive.google.com/uc?id=1xEHGMdjCM8vl0CQoXxZW51k4187_Zhyc\n",
            "From (redirected): https://drive.google.com/uc?id=1xEHGMdjCM8vl0CQoXxZW51k4187_Zhyc&confirm=t&uuid=e53ee53a-4f4d-4847-9d37-e79f4c68d5a1\n",
            "To: /content/final_results_to_analyze.xlsx\n",
            "100%|██████████| 44.7M/44.7M [00:00<00:00, 47.4MB/s]\n"
          ]
        },
        {
          "output_type": "stream",
          "name": "stdout",
          "text": [
            "        date  client_id ab_group  is_view_ads  cnt_view_ads  is_adds_ads  \\\n",
            "0 2024-07-26    8881380     test            0             0            0   \n",
            "1 2024-07-28  850950385     test            0             0            0   \n",
            "2 2024-07-25      50885  control            0             0            0   \n",
            "3 2024-07-26     601239  control            0             0            0   \n",
            "4 2024-07-28  694655866  control            0             0            0   \n",
            "\n",
            "   cnt_adds_ads  sum_adds_ads  is_orders_ads  cnt_orders_ads  sum_orders_ads  \n",
            "0             0             0              0               0               0  \n",
            "1             0             0              0               0               0  \n",
            "2             0             0              0               0               0  \n",
            "3             0             0              0               0               0  \n",
            "4             0             0              0               0               0  \n"
          ]
        }
      ]
    },
    {
      "cell_type": "code",
      "source": [
        "# Преобразуем столбец dt в datetime\n",
        "df['dt'] = pd.to_datetime(df['dt'])\n",
        "\n",
        "# Группируем по 'client_id' и 'dt', исключаем дублирующие события\n",
        "df_unique = df.groupby(['client_id', 'dt'])['event_type'].agg(lambda x: ','.join(set(x))).reset_index()\n",
        "\n",
        "# Создаем бинарные колонки\n",
        "df_unique['views'] = df_unique['event_type'].apply(lambda x: 1 if 'views' in x else 0)\n",
        "df_unique['clicks'] = df_unique['event_type'].apply(lambda x: 1 if 'clicks' in x else 0)\n",
        "df_unique['adds'] = df_unique['event_type'].apply(lambda x: 1 if 'adds' in x else 0)\n",
        "\n",
        "# Финальный датафрейм\n",
        "df_funnel = df_unique[['client_id', 'dt', 'views', 'clicks', 'adds']]\n",
        "\n",
        "# Конверсии\n",
        "views_users = df_funnel[df_funnel['views'] == 1]['client_id'].nunique()\n",
        "clicks_users = df_funnel[df_funnel['clicks'] == 1]['client_id'].nunique()\n",
        "adds_users = df_funnel[df_funnel['adds'] == 1]['client_id'].nunique()\n",
        "\n",
        "conversion_views_to_clicks = (clicks_users / views_users) * 100 if views_users != 0 else 0\n",
        "conversion_clicks_to_adds = (adds_users / clicks_users) * 100 if clicks_users != 0 else 0\n",
        "overall_conversion = (adds_users / views_users) * 100 if views_users != 0 else 0\n",
        "\n",
        "print(f\"Всего пользователей, которые видели экран (views): {views_users}\")\n",
        "print(f\"Всего пользователей, которые кликали (clicks): {clicks_users}\")\n",
        "print(f\"Всего пользователей, которые добавляли товары (adds): {adds_users}\")\n",
        "print()\n",
        "print(f\"Конверсия views → clicks: {conversion_views_to_clicks:.2f}%\")\n",
        "print(f\"Конверсия clicks → adds: {conversion_clicks_to_adds:.2f}%\")\n",
        "print(f\"Общая конверсия (views → adds): {overall_conversion:.2f}%\")\n",
        "print()\n",
        "\n",
        "# Воронка\n",
        "stages = ['Adds', 'Clicks', 'Views']\n",
        "values = [adds_users, clicks_users, views_users]\n",
        "\n",
        "plt.figure(figsize=(17, 4))\n",
        "plt.barh(stages, values, color=['#4CAF50', '#FFC107', '#FF5722'], alpha=0.85)\n",
        "plt.xlabel('Количество пользователей')\n",
        "plt.title('Воронка пользователей по типам действий')\n",
        "\n",
        "for i, v in enumerate(values):\n",
        "    plt.text(v + 100, i, str(v), va='center')\n",
        "\n",
        "plt.show()\n",
        "\n",
        "# Функция для расчета дисперсии\n",
        "def var_ratio(x, y):\n",
        "    mean_x = np.mean(x)\n",
        "    mean_y = np.mean(y)\n",
        "    var_x = np.var(x, ddof=1)\n",
        "    var_y = np.var(y, ddof=1)\n",
        "    cov_xy = np.cov(x, y, ddof=1)[0, 1]\n",
        "\n",
        "    return (var_x / mean_y**2) + (var_y * mean_x**2 / mean_y**4) - (2 * mean_x * cov_xy / mean_y**3)\n",
        "\n",
        "# Расчет дисперсий\n",
        "dispersia_clicks_to_adds = var_ratio(df_unique['clicks'], df_unique['adds'])\n",
        "dispersia_views_to_adds = var_ratio(df_unique['views'], df_unique['adds'])\n",
        "dispersia_views_to_clicks = var_ratio(df_unique['views'], df_unique['clicks'])\n",
        "\n",
        "print()\n",
        "print(f\"Дисперсия для отношения Clicks → Adds: {dispersia_clicks_to_adds:.4f}\")\n",
        "print(f\"Дисперсия для отношения Views → Adds: {dispersia_views_to_adds:.4f}\")\n",
        "print(f\"Дисперсия для отношения Views → Clicks: {dispersia_views_to_clicks:.4f}\")\n"
      ],
      "metadata": {
        "colab": {
          "base_uri": "https://localhost:8080/",
          "height": 631
        },
        "id": "LK3oegM75tLq",
        "outputId": "987df70b-f251-4ead-c303-ad76af3b56c4"
      },
      "execution_count": 35,
      "outputs": [
        {
          "output_type": "stream",
          "name": "stdout",
          "text": [
            "Всего пользователей, которые видели экран (views): 3102735\n",
            "Всего пользователей, которые кликали (clicks): 228491\n",
            "Всего пользователей, которые добавляли товары (adds): 90438\n",
            "\n",
            "Конверсия views → clicks: 7.36%\n",
            "Конверсия clicks → adds: 39.58%\n",
            "Общая конверсия (views → adds): 2.91%\n",
            "\n"
          ]
        },
        {
          "output_type": "display_data",
          "data": {
            "text/plain": [
              "<Figure size 1700x400 with 1 Axes>"
            ],
            "image/png": "[encoded data removed]"
          },
          "metadata": {}
        },
        {
          "output_type": "stream",
          "name": "stdout",
          "text": [
            "\n",
            "Дисперсия для отношения Clicks → Adds: 332.0900\n",
            "Дисперсия для отношения Views → Adds: 169109.0933\n",
            "Дисперсия для отношения Views → Clicks: 10693.2818\n"
          ]
        }
      ]
    },
    {
      "cell_type": "code",
      "source": [
        "# Данные для дисперсий\n",
        "ratios = ['Views → Adds', 'Views → Clicks', 'Clicks → Adds']\n",
        "dispersions = [169109.0933, 10693.2818, 332.0900]  # Дисперсии, которые мы получили\n",
        "\n",
        "# Создание графика\n",
        "plt.figure(figsize=(10, 6))\n",
        "plt.bar(ratios, dispersions, color='skyblue')\n",
        "\n",
        "# Добавление подписей\n",
        "plt.xlabel('Отношение')\n",
        "plt.ylabel('Дисперсия')\n",
        "plt.title('Дисперсия для различных отношений')\n",
        "plt.yscale('log')  # Используем логарифмическую шкалу, так как значения могут сильно различаться\n",
        "plt.show()\n"
      ],
      "metadata": {
        "colab": {
          "base_uri": "https://localhost:8080/",
          "height": 564
        },
        "id": "9DPG0o-v778x",
        "outputId": "409c8ca2-19f3-4956-a05f-1e95453068ad"
      },
      "execution_count": null,
      "outputs": [
        {
          "output_type": "display_data",
          "data": {
            "text/plain": [
              "<Figure size 1000x600 with 1 Axes>"
            ],
            "image/png": "[encoded data removed]"
          },
          "metadata": {}
        }
      ]
    },
    {
      "cell_type": "markdown",
      "source": [
        "Анализ данных:\n",
        "\n",
        "Всего пользователей: 3,102,736 — общее количество уникальных пользователей.\n",
        "\n",
        "Пользователей, которые видели экран (views): 3,102,735 — почти все пользователи заходили на главный экран.\n",
        "\n",
        "Пользователей, которые кликали (clicks): 228,491 — 7.36% от тех, кто видел экран.\n",
        "\n",
        "Пользователей, которые добавляли товары (adds): 90,438 — 39.58% от тех, кто кликал.\n",
        "\n",
        "Общая конверсия: 2.91% — процент пользователей, которые дошли до добавления товаров от общего количества просмотров экрана.\n",
        "\n",
        "Выводы по данным:\n",
        "\n",
        "Этап views → clicks (7.36%)\n",
        "\n",
        "Только небольшой процент пользователей, которые видели экран, взаимодействуют с рекламой.\n",
        "Возможная причина: недостаточная привлекательность рекламы или неудобный интерфейс.\n",
        "\n",
        "Этап clicks → adds (39.58%)\n",
        "\n",
        "Почти 40% пользователей, которые кликнули на рекламу, добавляют товары.\n",
        "Это хороший показатель, что реклама ведёт на релевантные продукты.\n",
        "\n",
        "Общая конверсия (2.91%)\n",
        "\n",
        "Из всех пользователей, которые видели экран, до добавления товаров доходит менее 3%.\n",
        "Это говорит о большом \"оттоке\" пользователей на первом этапе воронки.\n",
        "\n",
        "Рекомендации для улучшения воронки:\n",
        "\n",
        "Оптимизация первого шага (views → clicks):\n",
        "\n",
        "Улучшить баннеры и рекламные сообщения.\n",
        "\n",
        "Добавить более заметные CTA (call-to-action).\n",
        "\n",
        "Провести A/B тестирование различных вариантов главного экрана.\n",
        "\n",
        "Анализ поведения на этапе clicks → adds:\n",
        "\n",
        "Проанализировать, какие товары чаще всего добавляют в корзину.\n",
        "\n",
        "Улучшить качество целевой рекламы.\n",
        "\n",
        "Дополнительный анализ данных:\n",
        "\n",
        "Разбить пользователей на когорты по дате и анализировать динамику.\n",
        "Проанализировать, есть ли разница в поведении пользователей по разным сегментам (например, новые пользователи против постоянных).\n"
      ],
      "metadata": {
        "id": "gNuQpuz6jhaB"
      }
    },
    {
      "cell_type": "markdown",
      "source": [
        "Дисперсия для отношения Clicks → Adds: 332.0900\n",
        "Это значение говорит о том, насколько сильно варьируется отношение количества кликов к количеству добавлений товаров среди пользователей. 332.0900 — это достаточно высокая дисперсия, что может свидетельствовать о значительном разбросе в том, как клики (clicks) влияют на добавления (adds).\n",
        "\n",
        "Дисперсия для отношения Views → Adds: 169109.0933\n",
        "Это значение дисперсии очень высокое и значительно выше, чем для отношений Clicks → Adds и Views → Clicks. Оно указывает на огромный разброс в том, как просмотры (views) влияют на добавления товаров (adds).\n",
        "\n",
        "Дисперсия для отношения Views → Clicks: 10693.2818\n",
        "10693.2818 — это также достаточно высокая дисперсия, но она ниже, чем для Views → Adds. Это может означать, что просмотры экрана (views) имеют более стабильное влияние на клики (clicks), чем на добавления товаров."
      ],
      "metadata": {
        "id": "pq-Vya0p8Huj"
      }
    },
    {
      "cell_type": "code",
      "source": [
        "# Базовая конверсия из предыдущих шагов:\n",
        "baseline_conversion = overall_conversion / 100  # Базовая конверсия (0.0291)\n",
        "mde = 0.025  # Минимальный ожидаемый эффект (2.5%)\n",
        "alpha = 0.05  # Уровень значимости (5%)\n",
        "power = 0.8  # Статистическая мощность (80%)\n",
        "\n",
        "# Расчет размера выборки\n",
        "analysis = NormalIndPower()\n",
        "sample_size = analysis.solve_power(\n",
        "    effect_size=(mde / math.sqrt(baseline_conversion * (1 - baseline_conversion))),\n",
        "    power=power,\n",
        "    alpha=alpha,\n",
        "    ratio=1\n",
        ")\n",
        "\n",
        "# Таблица MDE и размера выборки\n",
        "sample_size_per_group = math.ceil(sample_size)  # Округляем вверх, так как не можем взять дробные пользователи\n",
        "total_sample_size = sample_size_per_group * 2  # Для теста и контроля\n",
        "\n",
        "# Создаем таблицу с результатами\n",
        "sample_data = {\n",
        "    'MDE (%)': [mde * 100],\n",
        "    'Размер выборки на группу': [sample_size_per_group],\n",
        "    'Общий размер выборки (тест и контроль)': [total_sample_size]\n",
        "}\n",
        "\n",
        "sample_df = pd.DataFrame(sample_data)\n",
        "print(sample_df)\n"
      ],
      "metadata": {
        "colab": {
          "base_uri": "https://localhost:8080/"
        },
        "id": "BJxlVi2J7M8y",
        "outputId": "3225821b-6791-426d-edf7-6fd658467793"
      },
      "execution_count": 23,
      "outputs": [
        {
          "output_type": "stream",
          "name": "stdout",
          "text": [
            "   MDE (%)  Размер выборки на группу  Общий размер выборки (тест и контроль)\n",
            "0      2.5                       711                                    1422\n"
          ]
        }
      ]
    },
    {
      "cell_type": "code",
      "source": [
        "# Обработка пропусков\n",
        "missing_data = final_results.isnull().sum()\n",
        "print(\"Пропуски в данных:\")\n",
        "print(missing_data,'\\n')\n",
        "\n",
        "# Основные метрики\n",
        "# Конверсия в добавление товаров из рекламы\n",
        "control_group = final_results[final_results['ab_group'] == 'control']\n",
        "test_group = final_results[final_results['ab_group'] == 'test']\n",
        "\n",
        "def calculate_conversion(group, numerator, denominator):\n",
        "    return group[numerator].sum() / group[denominator].sum() if group[denominator].sum() > 0 else 0\n",
        "\n",
        "conversion_adds_control = calculate_conversion(control_group, 'is_adds_ads', 'is_view_ads')\n",
        "conversion_adds_test = calculate_conversion(test_group, 'is_adds_ads', 'is_view_ads')\n",
        "\n",
        "# Конверсия в заказы\n",
        "conversion_orders_control = calculate_conversion(control_group, 'is_orders_ads', 'is_view_ads')\n",
        "conversion_orders_test = calculate_conversion(test_group, 'is_orders_ads', 'is_view_ads')\n",
        "\n",
        "# Выручка на пользователя (ARPU)\n",
        "arpu_control = control_group['sum_orders_ads'].sum() / control_group['client_id'].nunique()\n",
        "arpu_test = test_group['sum_orders_ads'].sum() / test_group['client_id'].nunique()\n",
        "\n",
        "# Выручка на покупателя (ARPPU)\n",
        "def calculate_arppu(group):\n",
        "    buyers = group[group['is_orders_ads'] == 1]['client_id'].nunique()\n",
        "    return group['sum_orders_ads'].sum() / buyers if buyers > 0 else 0\n",
        "\n",
        "arppu_control = calculate_arppu(control_group)\n",
        "arppu_test = calculate_arppu(test_group)\n",
        "\n",
        "# Средний чек\n",
        "avg_check_control = control_group['sum_orders_ads'].sum() / control_group['cnt_orders_ads'].sum()\n",
        "avg_check_test = test_group['sum_orders_ads'].sum() / test_group['cnt_orders_ads'].sum()\n",
        "\n",
        "# Среднее количество заказов на пользователя\n",
        "avg_orders_control = control_group['cnt_orders_ads'].sum() / control_group['client_id'].nunique()\n",
        "avg_orders_test = test_group['cnt_orders_ads'].sum() / test_group['client_id'].nunique()\n",
        "\n",
        "# Вывод результатов\n",
        "results = {\n",
        "    'Конверсия в добавление (control)': conversion_adds_control,\n",
        "    'Конверсия в добавление (test)': conversion_adds_test,\n",
        "    'Конверсия в заказы (control)': conversion_orders_control,\n",
        "    'Конверсия в заказы (test)': conversion_orders_test,\n",
        "    'ARPU (control)': arpu_control,\n",
        "    'ARPU (test)': arpu_test,\n",
        "    'ARPPU (control)': arppu_control,\n",
        "    'ARPPU (test)': arppu_test,\n",
        "    'Средний чек (control)': avg_check_control,\n",
        "    'Средний чек (test)': avg_check_test,\n",
        "    'Среднее кол-во заказов на пользователя (control)': avg_orders_control,\n",
        "    'Среднее кол-во заказов на пользователя (test)': avg_orders_test\n",
        "}\n",
        "\n",
        "for metric, value in results.items():\n",
        "    print(f\"{metric}: {value:.2f}\")\n",
        "\n",
        "# Статистические тесты\n",
        "# Тест на конверсию в добавление\n",
        "add_pvalue = ttest_ind(control_group['is_adds_ads'], test_group['is_adds_ads'], equal_var=False).pvalue\n",
        "\n",
        "# Тест на конверсию в заказы\n",
        "order_pvalue = ttest_ind(control_group['is_orders_ads'], test_group['is_orders_ads'], equal_var=False).pvalue\n",
        "\n",
        "print()\n",
        "\n",
        "# Вывод p-value\n",
        "print(f\"p-value для конверсии в добавление: {add_pvalue:.4f}\")\n",
        "print(f\"p-value для конверсии в заказы: {order_pvalue:.4f}\")\n",
        "print()\n",
        "\n",
        "# Визуализация\n",
        "metrics = ['cnt_view_ads', 'cnt_adds_ads', 'cnt_orders_ads']\n",
        "control_means = control_group[metrics].mean()\n",
        "test_means = test_group[metrics].mean()\n",
        "\n",
        "plt.figure(figsize=(10, 6))\n",
        "bar_width = 0.35\n",
        "index = np.arange(len(metrics))\n",
        "\n",
        "plt.bar(index, control_means, bar_width, label='Control', color='blue')\n",
        "plt.bar(index + bar_width, test_means, bar_width, label='Test', color='green')\n",
        "\n",
        "plt.xlabel('Метрики')\n",
        "plt.ylabel('Средние значения')\n",
        "plt.title('Сравнение средних значений метрик между группами')\n",
        "plt.xticks(index + bar_width / 2, metrics)\n",
        "plt.legend()\n",
        "plt.show()\n"
      ],
      "metadata": {
        "id": "OPLVx7HV772w",
        "colab": {
          "base_uri": "https://localhost:8080/",
          "height": 1000
        },
        "outputId": "c32cd4bc-48cb-4d7b-e1a5-0e1485f8a73e"
      },
      "execution_count": 27,
      "outputs": [
        {
          "output_type": "stream",
          "name": "stdout",
          "text": [
            "Пропуски в данных:\n",
            "date              0\n",
            "client_id         0\n",
            "ab_group          0\n",
            "is_view_ads       0\n",
            "cnt_view_ads      0\n",
            "is_adds_ads       0\n",
            "cnt_adds_ads      0\n",
            "sum_adds_ads      0\n",
            "is_orders_ads     0\n",
            "cnt_orders_ads    0\n",
            "sum_orders_ads    0\n",
            "dtype: int64 \n",
            "\n",
            "Конверсия в добавление (control): 0.28\n",
            "Конверсия в добавление (test): 0.27\n",
            "Конверсия в заказы (control): 0.24\n",
            "Конверсия в заказы (test): 0.24\n",
            "ARPU (control): 7.92\n",
            "ARPU (test): 8.42\n",
            "ARPPU (control): 321.78\n",
            "ARPPU (test): 337.92\n",
            "Средний чек (control): 284.98\n",
            "Средний чек (test): 287.01\n",
            "Среднее кол-во заказов на пользователя (control): 0.03\n",
            "Среднее кол-во заказов на пользователя (test): 0.03\n",
            "\n",
            "p-value для конверсии в добавление: 0.9942\n",
            "p-value для конверсии в заказы: 0.5268\n",
            "\n"
          ]
        },
        {
          "output_type": "display_data",
          "data": {
            "text/plain": [
              "<Figure size 1000x600 with 1 Axes>"
            ],
            "image/png": "[encoded data removed]"
          },
          "metadata": {}
        }
      ]
    },
    {
      "cell_type": "markdown",
      "source": [
        "Основные метрики:\n",
        "\n",
        "Конверсия в добавление товаров (control и test):\n",
        "\n",
        "Конверсия в добавление товаров в тестовой группе (0.27) немного ниже, чем в контрольной (0.28), но разница незначительная.\n",
        "\n",
        "Конверсия в заказы (control и test):\n",
        "\n",
        "Конверсия в заказы также одинакова для обеих групп (0.24), что говорит о том, что поведение пользователей в тестовой и контрольной группах по этому показателю не различается.\n",
        "\n",
        "ARPU (Average Revenue Per User):\n",
        "\n",
        "В тестовой группе ARPU выше (8.42 против 7.92 в контрольной), что может указывать на более высокую выручку с пользователя в тесте, но нужно проверить статистическую значимость этой разницы.\n",
        "\n",
        "ARPPU (Average Revenue Per Paying User):\n",
        "\n",
        "ARPPU в тестовой группе выше (337.92 против 321.78), что также предполагает, что пользователи, совершившие покупки, генерируют чуть больше выручки в тестовой группе.\n",
        "\n",
        "Средний чек:\n",
        "\n",
        "Средний чек немного выше в тестовой группе (287.01 против 284.98), но разница минимальна.\n",
        "\n",
        "Среднее количество заказов на пользователя:\n",
        "\n",
        "Показатель одинаков в обеих группах (0.03), что указывает на отсутствие различий в поведении пользователей по частоте покупок.\n",
        "\n",
        "Статистические тесты (p-value)\n",
        "\n",
        "p-value для конверсии в добавление:\n",
        "\n",
        "Значение p-value для теста на конверсию в добавление товаров равно 0.9942. Это указывает на то, что разница в конверсии между контрольной и тестовой группой не является статистически значимой. Обычно p-value выше 0.05 считается недостаточно значимым.\n",
        "\n",
        "p-value для конверсии в заказы:\n",
        "\n",
        "Значение p-value для теста на конверсию в заказы равно 0.5268, что также подтверждает отсутствие статистически значимой разницы между группами.\n",
        "\n",
        "Выводы:\n",
        "\n",
        "По меткам: Различия между контрольной и тестовой группами по большинству метрик незначительны.\n",
        "\n",
        "p-value: Результаты тестов (p-value > 0.05) подтверждают, что нет статистически значимой разницы между группами.\n"
      ],
      "metadata": {
        "id": "TeeXgJJ4EaGT"
      }
    },
    {
      "cell_type": "code",
      "source": [
        "# Проверка нормальности для метрик\n",
        "metrics = ['is_adds_ads', 'is_orders_ads', 'sum_orders_ads', 'cnt_orders_ads', 'sum_adds_ads', 'cnt_adds_ads']\n",
        "normality_results = {}\n",
        "\n",
        "for metric in metrics:\n",
        "    stat, p_value = shapiro(final_results[metric].dropna())\n",
        "    normality_results[metric] = p_value\n",
        "\n",
        "# Вывод p-value для нормальности данных\n",
        "print(\"P-value для проверки нормальности (Шапиро-Уилка):\")\n",
        "for metric, p_value in normality_results.items():\n",
        "    print(f\"{metric}: {p_value:.4f}\")\n"
      ],
      "metadata": {
        "id": "LRRH72xz77zx",
        "colab": {
          "base_uri": "https://localhost:8080/"
        },
        "outputId": "1f3e8511-09d4-498d-9ff0-51e7255196cb"
      },
      "execution_count": 36,
      "outputs": [
        {
          "output_type": "stream",
          "name": "stderr",
          "text": [
            "/usr/local/lib/python3.10/dist-packages/scipy/stats/_axis_nan_policy.py:531: UserWarning: scipy.stats.shapiro: For N > 5000, computed p-value may not be accurate. Current N is 981510.\n",
            "  res = hypotest_fun_out(*samples, **kwds)\n"
          ]
        },
        {
          "output_type": "stream",
          "name": "stdout",
          "text": [
            "P-value для проверки нормальности (Шапиро-Уилка):\n",
            "is_adds_ads: 0.0000\n",
            "is_orders_ads: 0.0000\n",
            "sum_orders_ads: 0.0000\n",
            "cnt_orders_ads: 0.0000\n",
            "sum_adds_ads: 0.0000\n",
            "cnt_adds_ads: 0.0000\n"
          ]
        }
      ]
    },
    {
      "cell_type": "code",
      "source": [
        "# Проверка гомогенности дисперсий между контрольной и тестовой группами\n",
        "levene_results = {}\n",
        "\n",
        "for metric in metrics:\n",
        "    control_data = control_group[metric].dropna()\n",
        "    test_data = test_group[metric].dropna()\n",
        "    stat, p_value = levene(control_data, test_data)\n",
        "    levene_results[metric] = p_value\n",
        "\n",
        "# Вывод p-value для теста Левена\n",
        "print(\"\\nP-value для проверки гомогенности дисперсий (Тест Левена):\")\n",
        "for metric, p_value in levene_results.items():\n",
        "    print(f\"{metric}: {p_value:.4f}\")\n"
      ],
      "metadata": {
        "id": "vxsqdYn577w9",
        "colab": {
          "base_uri": "https://localhost:8080/"
        },
        "outputId": "b554f1a7-488d-4299-a877-6cebbc4fb4db"
      },
      "execution_count": 37,
      "outputs": [
        {
          "output_type": "stream",
          "name": "stdout",
          "text": [
            "\n",
            "P-value для проверки гомогенности дисперсий (Тест Левена):\n",
            "is_adds_ads: 0.9942\n",
            "is_orders_ads: 0.5268\n",
            "sum_orders_ads: 0.0428\n",
            "cnt_orders_ads: 0.0406\n",
            "sum_adds_ads: 0.3321\n",
            "cnt_adds_ads: 0.1674\n"
          ]
        }
      ]
    },
    {
      "cell_type": "code",
      "source": [
        "# Применение коррекции Бонферрони\n",
        "alpha = 0.05\n",
        "num_tests = len(metrics)\n",
        "bonferroni_alpha = alpha / num_tests\n",
        "\n",
        "# Вывод результата корректировки\n",
        "print(\"\\nИспользованный порог значимости с учетом множества тестов (Бонферрони):\")\n",
        "print(f\"Корректированный уровень значимости: {bonferroni_alpha:.4f}\")\n"
      ],
      "metadata": {
        "id": "tfZCMawo77te",
        "colab": {
          "base_uri": "https://localhost:8080/"
        },
        "outputId": "fed58b40-e15a-4006-e6aa-96bd073b5ca6"
      },
      "execution_count": 30,
      "outputs": [
        {
          "output_type": "stream",
          "name": "stdout",
          "text": [
            "\n",
            "Использованный порог значимости с учетом множества тестов (Бонферрони):\n",
            "Корректированный уровень значимости: 0.0083\n"
          ]
        }
      ]
    },
    {
      "cell_type": "code",
      "source": [
        "# Тест для ARPU\n",
        "arpu_control = control_group['sum_orders_ads'].sum() / control_group['client_id'].nunique()\n",
        "arpu_test = test_group['sum_orders_ads'].sum() / test_group['client_id'].nunique()\n",
        "t_stat_arpu, p_value_arpu = ttest_ind(control_group['sum_orders_ads'], test_group['sum_orders_ads'], equal_var=False)\n",
        "\n",
        "# Тест для ARPPU\n",
        "arppu_control = control_group[control_group['is_orders_ads'] == 1]['sum_orders_ads'].sum() / control_group[control_group['is_orders_ads'] == 1]['client_id'].nunique()\n",
        "arppu_test = test_group[test_group['is_orders_ads'] == 1]['sum_orders_ads'].sum() / test_group[test_group['is_orders_ads'] == 1]['client_id'].nunique()\n",
        "t_stat_arppu, p_value_arppu = ttest_ind(control_group[control_group['is_orders_ads'] == 1]['sum_orders_ads'],\n",
        "                                         test_group[test_group['is_orders_ads'] == 1]['sum_orders_ads'], equal_var=False)\n",
        "\n",
        "# Вывод результатов\n",
        "print(\"\\nРезультаты t-теста для ARPU и ARPPU:\")\n",
        "print(f\"ARPU - t-статистика: {t_stat_arpu:.4f}, p-value: {p_value_arpu:.4f}\")\n",
        "print(f\"ARPPU - t-статистика: {t_stat_arppu:.4f}, p-value: {p_value_arppu:.4f}\")\n"
      ],
      "metadata": {
        "colab": {
          "base_uri": "https://localhost:8080/"
        },
        "id": "4qc8ZQiNG64R",
        "outputId": "b3146ba8-c558-41ea-9a5e-f15da36fbc0f"
      },
      "execution_count": 31,
      "outputs": [
        {
          "output_type": "stream",
          "name": "stdout",
          "text": [
            "\n",
            "Результаты t-теста для ARPU и ARPPU:\n",
            "ARPU - t-статистика: -2.0259, p-value: 0.0428\n",
            "ARPPU - t-статистика: -2.1221, p-value: 0.0338\n"
          ]
        }
      ]
    },
    {
      "cell_type": "code",
      "source": [
        "# Визуализация для ARPU, ARPPU и среднего чека\n",
        "metrics_to_plot = ['ARPU', 'ARPPU', 'Средний чек']\n",
        "\n",
        "# Собираем данные для визуализации\n",
        "plot_data = {\n",
        "    'Control': [arpu_control, arppu_control, avg_check_control],\n",
        "    'Test': [arpu_test, arppu_test, avg_check_test]\n",
        "}\n",
        "\n",
        "# Построение графика\n",
        "plt.figure(figsize=(10, 6))\n",
        "bar_width = 0.35\n",
        "index = np.arange(len(metrics_to_plot))\n",
        "\n",
        "plt.bar(index, plot_data['Control'], bar_width, label='Control', color='blue')\n",
        "plt.bar(index + bar_width, plot_data['Test'], bar_width, label='Test', color='green')\n",
        "\n",
        "plt.xlabel('Метрики')\n",
        "plt.ylabel('Значения')\n",
        "plt.title('Сравнение второстепенных метрик между группами')\n",
        "plt.xticks(index + bar_width / 2, metrics_to_plot)\n",
        "plt.legend()\n",
        "plt.show()\n"
      ],
      "metadata": {
        "colab": {
          "base_uri": "https://localhost:8080/",
          "height": 564
        },
        "id": "D339Xmk6G60J",
        "outputId": "71b6141f-529d-4a1c-995c-3c1af791d40c"
      },
      "execution_count": 32,
      "outputs": [
        {
          "output_type": "display_data",
          "data": {
            "text/plain": [
              "<Figure size 1000x600 with 1 Axes>"
            ],
            "image/png": "[encoded data removed]"
          },
          "metadata": {}
        }
      ]
    },
    {
      "cell_type": "code",
      "source": [
        "# Пример анализа чувствительности на основе различных MDE (минимальный детектируемый эффект)\n",
        "mde_values = [0.025, 0.03, 0.035]\n",
        "sensitivity_results = {}\n",
        "\n",
        "for mde in mde_values:\n",
        "    # Примерный расчет статистической мощности на основе выбранного MDE\n",
        "    power = 1 - norm.cdf(mde, loc=0, scale=1)  # Это упрощенный расчет\n",
        "    sensitivity_results[mde] = power\n",
        "\n",
        "# Вывод результатов анализа чувствительности\n",
        "print(\"\\nРезультаты анализа чувствительности (MDE и статистическая мощность):\")\n",
        "for mde, power in sensitivity_results.items():\n",
        "    print(f\"MDE = {mde}, Статистическая мощность: {power:.4f}\")\n"
      ],
      "metadata": {
        "colab": {
          "base_uri": "https://localhost:8080/"
        },
        "id": "8FxUv6JbG6wm",
        "outputId": "3961cf1f-bdd2-485a-e6cb-edf3bacc46c5"
      },
      "execution_count": 33,
      "outputs": [
        {
          "output_type": "stream",
          "name": "stdout",
          "text": [
            "\n",
            "Результаты анализа чувствительности (MDE и статистическая мощность):\n",
            "MDE = 0.025, Статистическая мощность: 0.4900\n",
            "MDE = 0.03, Статистическая мощность: 0.4880\n",
            "MDE = 0.035, Статистическая мощность: 0.4860\n"
          ]
        }
      ]
    },
    {
      "cell_type": "markdown",
      "source": [
        "Результаты проверки и анализа:\n",
        "\n",
        "Проверка нормальности данных (Тест Шапиро-Уилка):\n",
        "\n",
        " Все тестируемые переменные имеют p-value равное 0, что говорит о нормальности данных (согласно критериям теста Шапиро-Уилка). Однако стоит отметить предупреждение: поскольку размер выборки составляет более 5000 наблюдений (981510), тест может быть не столь точным для таких больших выборок. Но, в целом, при больших объемах данных часто возникают отклонения от нормальности, и в таких случаях могут быть использованы другие статистические методы, например, непараметрические тесты.\n",
        "\n",
        "Проверка гомогенности дисперсий (Тест Левена):\n",
        "\n",
        "Показатели для is_adds_ads и is_orders_ads показывают p-value > 0.05, что означает, что дисперсии между контрольной и тестовой группами одинаковы.\n",
        "Однако для sum_orders_ads и cnt_orders_ads p-value меньше 0.05, что говорит о том, что дисперсии между группами не одинаковы для этих метрик, что стоит учитывать при дальнейших тестах.\n",
        "\n",
        "Коррекция Бонферрони:\n",
        "\n",
        " С учетом множества тестов, корректированный уровень значимости составил 0.0083, что уменьшает вероятность ложноположительных результатов. Это означает, что для проверки статистической значимости необходимо использовать порог p-value ниже 0.0083 для всех тестов.\n",
        "\n",
        "Результаты t-теста для ARPU и ARPPU:\n",
        "\n",
        "Для ARPU (выручка на пользователя) p-value = 0.0428, что меньше 0.05, но больше корректированного порога 0.0083, то есть, рекомендуется не принимать результаты как статистически значимые.\n",
        "\n",
        "Для ARPPU (выручка на покупателя) p-value = 0.0338, что также ниже 0.05, но опять же превышает корректированный порог 0.0083, что делает результат не статистически значимым после коррекции.\n",
        "\n",
        "Анализ чувствительности:\n",
        "\n",
        " Статистическая мощность теста для всех значений MDE (минимальный детектируемый эффект) составляет около 0.49. Это указывает на то, что тест не обладает высокой мощностью для выявления значительных различий, особенно если эффект будет меньше ожидаемого MDE (например, если улучшение будет меньше 2.5%). Это может быть связано с тем, что необходим больший размер выборки для детектирования таких малых изменений.\n",
        "\n",
        "Выводы:\n",
        "\n",
        "Нормальность данных и гомогенность дисперсий подтверждают, что применяемые тесты подходят.\n",
        "\n",
        "Тесты на значимость не показывают достаточно значимых результатов после применения корректировки Бонферрони, так как все p-value превышают порог 0.0083.\n",
        "\n",
        "Анализ чувствительности показывает низкую статистическую мощность, что может означать необходимость увеличения выборки для выявления малых эффектов."
      ],
      "metadata": {
        "id": "bBpR0vxgIuOf"
      }
    },
    {
      "cell_type": "markdown",
      "source": [
        "Заключение:\n",
        "\n",
        "На основе проведённого анализа можно утверждать, что различия между контрольной и тестовой группами по основным метрикам статистически незначимы. В связи с этим нет оснований для отказа от нулевой гипотезы и утверждения о существовании значимых эффектов от изменений в тестовой группе."
      ],
      "metadata": {
        "id": "qMt3KZA2VKbx"
      }
    }
  ]
}